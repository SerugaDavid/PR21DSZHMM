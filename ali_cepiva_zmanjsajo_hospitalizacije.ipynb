{
 "cells": [
  {
   "cell_type": "markdown",
   "source": [
    "## Ali cepiva zmanjšajo hospitalizacije?"
   ],
   "metadata": {
    "collapsed": false
   }
  },
  {
   "cell_type": "markdown",
   "source": [
    "### Podatki\n",
    "Imamo veliko podatkov o cepivih, moramo pa izluščiti uporabne informacije, da lahko odgovorimo na to vprašanje.\n",
    "Tretutno gledam na te tabele, da iz njih izvozim uporabne informacije\n",
    "- csv/vaccination-confirmed-cases-opsi.csv\n",
    "- csv/vaccination-hospitalized-cases-opsi.csv\n",
    "- csv/hospitals.csv\n",
    "- csv/icu.csv\n",
    "- csv/cases.csv\n",
    "- csv/cases-vaccinated.csv\n",
    "- csv/cases-vaccinated-weekly.csv"
   ],
   "metadata": {
    "collapsed": false
   }
  },
  {
   "cell_type": "code",
   "execution_count": 3,
   "metadata": {
    "collapsed": true
   },
   "outputs": [],
   "source": [
    "import pandas as pd\n",
    "import numpy as np\n",
    "import matplotlib as plt"
   ]
  },
  {
   "cell_type": "markdown",
   "source": [],
   "metadata": {
    "collapsed": false
   }
  },
  {
   "cell_type": "code",
   "execution_count": null,
   "outputs": [],
   "source": [],
   "metadata": {
    "collapsed": false,
    "pycharm": {
     "name": "#%%\n"
    }
   }
  }
 ],
 "metadata": {
  "kernelspec": {
   "display_name": "Python 3",
   "language": "python",
   "name": "python3"
  },
  "language_info": {
   "codemirror_mode": {
    "name": "ipython",
    "version": 2
   },
   "file_extension": ".py",
   "mimetype": "text/x-python",
   "name": "python",
   "nbconvert_exporter": "python",
   "pygments_lexer": "ipython2",
   "version": "2.7.6"
  }
 },
 "nbformat": 4,
 "nbformat_minor": 0
}