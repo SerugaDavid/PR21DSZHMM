{
 "cells": [
  {
   "cell_type": "markdown",
   "source": [
    "## Ali cepiva zmanjšajo hospitalizacije?"
   ],
   "metadata": {
    "collapsed": false
   }
  },
  {
   "cell_type": "markdown",
   "source": [
    "### Podatki\n",
    "Imamo veliko podatkov o cepivih, moramo pa izluščiti uporabne informacije, da lahko odgovorimo na to vprašanje.\n",
    "Tretutno gledam na te tabele, da iz njih izvozim uporabne informacije\n",
    "- csv/vaccination-confirmed-cases-opsi.csv\n",
    "- csv/vaccination-hospitalized-cases-opsi.csv\n",
    "- csv/vaccination-administered.csv\n",
    "- csv/hospitals.csv\n",
    "- csv/icu.csv\n",
    "- csv/cases.csv\n",
    "- csv/cases-vaccinated.csv\n",
    "- csv/cases-vaccinated-weekly.csv"
   ],
   "metadata": {
    "collapsed": false
   }
  },
  {
   "cell_type": "code",
   "execution_count": 8,
   "metadata": {
    "collapsed": true
   },
   "outputs": [],
   "source": [
    "import pandas as pd\n",
    "import numpy as np\n",
    "import matplotlib as plt\n",
    "import datetime as dt"
   ]
  },
  {
   "cell_type": "markdown",
   "source": [
    "Pa prvo poglejmo covid primere po datumih, in ali so bili ti cepljeni ali ne, ter kakšno je to razmerje"
   ],
   "metadata": {
    "collapsed": false
   }
  },
  {
   "cell_type": "code",
   "execution_count": 9,
   "outputs": [],
   "source": [
    "# Shranimo željene tabele\n",
    "cepjeni = pd.read_csv(\"csv/vaccination-administered.csv\")\n",
    "potrjeni = pd.read_csv(\"csv/vaccination-confirmed-cases-opsi_new.csv\")"
   ],
   "metadata": {
    "collapsed": false,
    "pycharm": {
     "name": "#%%\n"
    }
   }
  },
  {
   "cell_type": "code",
   "execution_count": 11,
   "outputs": [
    {
     "data": {
      "text/plain": "           Datum  Potrjeni ostali  Potrjeni zasciteni s cepljenjem  \\\n0    04-MAR-2020                1                                0   \n1    05-MAR-2020                5                                0   \n2    06-MAR-2020                4                                0   \n3    07-MAR-2020                4                                0   \n4    08-MAR-2020                5                                0   \n..           ...              ...                              ...   \n683  16-JAN-2022             2884                             2074   \n684  17-JAN-2022             5239                             3433   \n685  18-JAN-2022             7451                             4825   \n686  19-JAN-2022             6023                             4245   \n687  20-JAN-2022             5860                             3983   \n\n    Potrjeni ostali 7dnevno povprecje  \\\n0                              #NULL!   \n1                              #NULL!   \n2                              #NULL!   \n3                              #NULL!   \n4                              #NULL!   \n..                                ...   \n683                           3788.57   \n684                           4104.43   \n685                           4536.71   \n686                           4821.43   \n687                           5089.71   \n\n    Potrjeni zasciteni s cepljenjem 7dnevno povprecje  \\\n0                                              #NULL!   \n1                                              #NULL!   \n2                                              #NULL!   \n3                                              #NULL!   \n4                                              #NULL!   \n..                                                ...   \n683                                           2626.43   \n684                                           2812.14   \n685                                           3073.86   \n686                                           3275.57   \n687                                           3424.57   \n\n    Potrjeni ostali 7dnevno povprecje na 100000  \\\n0                                        #NULL!   \n1                                        #NULL!   \n2                                        #NULL!   \n3                                        #NULL!   \n4                                        #NULL!   \n..                                          ...   \n683                                      411.77   \n684                                      446.36   \n685                                      493.75   \n686                                      525.08   \n687                                      554.70   \n\n    Potrjeni zasciteni s cepljenjem 7dnevno povprecje na 100000  \n0                                               #NULL!           \n1                                               #NULL!           \n2                                               #NULL!           \n3                                               #NULL!           \n4                                               #NULL!           \n..                                                 ...           \n683                                             220.91           \n684                                             236.43           \n685                                             258.28           \n686                                             275.09           \n687                                             287.43           \n\n[688 rows x 7 columns]",
      "text/html": "<div>\n<style scoped>\n    .dataframe tbody tr th:only-of-type {\n        vertical-align: middle;\n    }\n\n    .dataframe tbody tr th {\n        vertical-align: top;\n    }\n\n    .dataframe thead th {\n        text-align: right;\n    }\n</style>\n<table border=\"1\" class=\"dataframe\">\n  <thead>\n    <tr style=\"text-align: right;\">\n      <th></th>\n      <th>Datum</th>\n      <th>Potrjeni ostali</th>\n      <th>Potrjeni zasciteni s cepljenjem</th>\n      <th>Potrjeni ostali 7dnevno povprecje</th>\n      <th>Potrjeni zasciteni s cepljenjem 7dnevno povprecje</th>\n      <th>Potrjeni ostali 7dnevno povprecje na 100000</th>\n      <th>Potrjeni zasciteni s cepljenjem 7dnevno povprecje na 100000</th>\n    </tr>\n  </thead>\n  <tbody>\n    <tr>\n      <th>0</th>\n      <td>04-MAR-2020</td>\n      <td>1</td>\n      <td>0</td>\n      <td>#NULL!</td>\n      <td>#NULL!</td>\n      <td>#NULL!</td>\n      <td>#NULL!</td>\n    </tr>\n    <tr>\n      <th>1</th>\n      <td>05-MAR-2020</td>\n      <td>5</td>\n      <td>0</td>\n      <td>#NULL!</td>\n      <td>#NULL!</td>\n      <td>#NULL!</td>\n      <td>#NULL!</td>\n    </tr>\n    <tr>\n      <th>2</th>\n      <td>06-MAR-2020</td>\n      <td>4</td>\n      <td>0</td>\n      <td>#NULL!</td>\n      <td>#NULL!</td>\n      <td>#NULL!</td>\n      <td>#NULL!</td>\n    </tr>\n    <tr>\n      <th>3</th>\n      <td>07-MAR-2020</td>\n      <td>4</td>\n      <td>0</td>\n      <td>#NULL!</td>\n      <td>#NULL!</td>\n      <td>#NULL!</td>\n      <td>#NULL!</td>\n    </tr>\n    <tr>\n      <th>4</th>\n      <td>08-MAR-2020</td>\n      <td>5</td>\n      <td>0</td>\n      <td>#NULL!</td>\n      <td>#NULL!</td>\n      <td>#NULL!</td>\n      <td>#NULL!</td>\n    </tr>\n    <tr>\n      <th>...</th>\n      <td>...</td>\n      <td>...</td>\n      <td>...</td>\n      <td>...</td>\n      <td>...</td>\n      <td>...</td>\n      <td>...</td>\n    </tr>\n    <tr>\n      <th>683</th>\n      <td>16-JAN-2022</td>\n      <td>2884</td>\n      <td>2074</td>\n      <td>3788.57</td>\n      <td>2626.43</td>\n      <td>411.77</td>\n      <td>220.91</td>\n    </tr>\n    <tr>\n      <th>684</th>\n      <td>17-JAN-2022</td>\n      <td>5239</td>\n      <td>3433</td>\n      <td>4104.43</td>\n      <td>2812.14</td>\n      <td>446.36</td>\n      <td>236.43</td>\n    </tr>\n    <tr>\n      <th>685</th>\n      <td>18-JAN-2022</td>\n      <td>7451</td>\n      <td>4825</td>\n      <td>4536.71</td>\n      <td>3073.86</td>\n      <td>493.75</td>\n      <td>258.28</td>\n    </tr>\n    <tr>\n      <th>686</th>\n      <td>19-JAN-2022</td>\n      <td>6023</td>\n      <td>4245</td>\n      <td>4821.43</td>\n      <td>3275.57</td>\n      <td>525.08</td>\n      <td>275.09</td>\n    </tr>\n    <tr>\n      <th>687</th>\n      <td>20-JAN-2022</td>\n      <td>5860</td>\n      <td>3983</td>\n      <td>5089.71</td>\n      <td>3424.57</td>\n      <td>554.70</td>\n      <td>287.43</td>\n    </tr>\n  </tbody>\n</table>\n<p>688 rows × 7 columns</p>\n</div>"
     },
     "execution_count": 11,
     "metadata": {},
     "output_type": "execute_result"
    }
   ],
   "source": [
    "# Odstranimo nepotrebne stolpce\n",
    "cepjeni.drop([\"vaccination.administered2nd\", \"vaccination.administered2nd.todate\", \"vaccination.administered3rd\", \"vaccination.administered3rd.todate\"], axis=1)\n",
    "potrjeni.drop([\"line\"], axis=1)"
   ],
   "metadata": {
    "collapsed": false,
    "pycharm": {
     "name": "#%%\n"
    }
   }
  },
  {
   "cell_type": "code",
   "execution_count": 23,
   "outputs": [
    {
     "data": {
      "text/plain": "     line        Datum  Potrjeni ostali  Potrjeni zasciteni s cepljenjem  \\\n298   298  27-DEC-2020              533                                0   \n299   299  28-DEC-2020             1991                                0   \n300   300  29-DEC-2020             2426                                0   \n301   301  30-DEC-2020             2429                                0   \n302   302  31-DEC-2020             1767                                0   \n..    ...          ...              ...                              ...   \n683   683  16-JAN-2022             2884                             2074   \n684   684  17-JAN-2022             5239                             3433   \n685   685  18-JAN-2022             7451                             4825   \n686   686  19-JAN-2022             6023                             4245   \n687   687  20-JAN-2022             5860                             3983   \n\n    Potrjeni ostali 7dnevno povprecje  \\\n298                           1299.00   \n299                           1362.14   \n300                           1402.00   \n301                           1454.43   \n302                           1448.14   \n..                                ...   \n683                           3788.57   \n684                           4104.43   \n685                           4536.71   \n686                           4821.43   \n687                           5089.71   \n\n    Potrjeni zasciteni s cepljenjem 7dnevno povprecje  \\\n298                                              0.00   \n299                                              0.00   \n300                                              0.00   \n301                                              0.00   \n302                                              0.00   \n..                                                ...   \n683                                           2626.43   \n684                                           2812.14   \n685                                           3073.86   \n686                                           3275.57   \n687                                           3424.57   \n\n    Potrjeni ostali 7dnevno povprecje na 100000  \\\n298                                       61.59   \n299                                       64.59   \n300                                       66.48   \n301                                       68.96   \n302                                       68.67   \n..                                          ...   \n683                                      411.77   \n684                                      446.36   \n685                                      493.75   \n686                                      525.08   \n687                                      554.70   \n\n    Potrjeni zasciteni s cepljenjem 7dnevno povprecje na 100000  \n298                                               0.00           \n299                                               0.00           \n300                                               0.00           \n301                                               0.00           \n302                                               0.00           \n..                                                 ...           \n683                                             220.91           \n684                                             236.43           \n685                                             258.28           \n686                                             275.09           \n687                                             287.43           \n\n[390 rows x 8 columns]",
      "text/html": "<div>\n<style scoped>\n    .dataframe tbody tr th:only-of-type {\n        vertical-align: middle;\n    }\n\n    .dataframe tbody tr th {\n        vertical-align: top;\n    }\n\n    .dataframe thead th {\n        text-align: right;\n    }\n</style>\n<table border=\"1\" class=\"dataframe\">\n  <thead>\n    <tr style=\"text-align: right;\">\n      <th></th>\n      <th>line</th>\n      <th>Datum</th>\n      <th>Potrjeni ostali</th>\n      <th>Potrjeni zasciteni s cepljenjem</th>\n      <th>Potrjeni ostali 7dnevno povprecje</th>\n      <th>Potrjeni zasciteni s cepljenjem 7dnevno povprecje</th>\n      <th>Potrjeni ostali 7dnevno povprecje na 100000</th>\n      <th>Potrjeni zasciteni s cepljenjem 7dnevno povprecje na 100000</th>\n    </tr>\n  </thead>\n  <tbody>\n    <tr>\n      <th>298</th>\n      <td>298</td>\n      <td>27-DEC-2020</td>\n      <td>533</td>\n      <td>0</td>\n      <td>1299.00</td>\n      <td>0.00</td>\n      <td>61.59</td>\n      <td>0.00</td>\n    </tr>\n    <tr>\n      <th>299</th>\n      <td>299</td>\n      <td>28-DEC-2020</td>\n      <td>1991</td>\n      <td>0</td>\n      <td>1362.14</td>\n      <td>0.00</td>\n      <td>64.59</td>\n      <td>0.00</td>\n    </tr>\n    <tr>\n      <th>300</th>\n      <td>300</td>\n      <td>29-DEC-2020</td>\n      <td>2426</td>\n      <td>0</td>\n      <td>1402.00</td>\n      <td>0.00</td>\n      <td>66.48</td>\n      <td>0.00</td>\n    </tr>\n    <tr>\n      <th>301</th>\n      <td>301</td>\n      <td>30-DEC-2020</td>\n      <td>2429</td>\n      <td>0</td>\n      <td>1454.43</td>\n      <td>0.00</td>\n      <td>68.96</td>\n      <td>0.00</td>\n    </tr>\n    <tr>\n      <th>302</th>\n      <td>302</td>\n      <td>31-DEC-2020</td>\n      <td>1767</td>\n      <td>0</td>\n      <td>1448.14</td>\n      <td>0.00</td>\n      <td>68.67</td>\n      <td>0.00</td>\n    </tr>\n    <tr>\n      <th>...</th>\n      <td>...</td>\n      <td>...</td>\n      <td>...</td>\n      <td>...</td>\n      <td>...</td>\n      <td>...</td>\n      <td>...</td>\n      <td>...</td>\n    </tr>\n    <tr>\n      <th>683</th>\n      <td>683</td>\n      <td>16-JAN-2022</td>\n      <td>2884</td>\n      <td>2074</td>\n      <td>3788.57</td>\n      <td>2626.43</td>\n      <td>411.77</td>\n      <td>220.91</td>\n    </tr>\n    <tr>\n      <th>684</th>\n      <td>684</td>\n      <td>17-JAN-2022</td>\n      <td>5239</td>\n      <td>3433</td>\n      <td>4104.43</td>\n      <td>2812.14</td>\n      <td>446.36</td>\n      <td>236.43</td>\n    </tr>\n    <tr>\n      <th>685</th>\n      <td>685</td>\n      <td>18-JAN-2022</td>\n      <td>7451</td>\n      <td>4825</td>\n      <td>4536.71</td>\n      <td>3073.86</td>\n      <td>493.75</td>\n      <td>258.28</td>\n    </tr>\n    <tr>\n      <th>686</th>\n      <td>686</td>\n      <td>19-JAN-2022</td>\n      <td>6023</td>\n      <td>4245</td>\n      <td>4821.43</td>\n      <td>3275.57</td>\n      <td>525.08</td>\n      <td>275.09</td>\n    </tr>\n    <tr>\n      <th>687</th>\n      <td>687</td>\n      <td>20-JAN-2022</td>\n      <td>5860</td>\n      <td>3983</td>\n      <td>5089.71</td>\n      <td>3424.57</td>\n      <td>554.70</td>\n      <td>287.43</td>\n    </tr>\n  </tbody>\n</table>\n<p>390 rows × 8 columns</p>\n</div>"
     },
     "execution_count": 23,
     "metadata": {},
     "output_type": "execute_result"
    }
   ],
   "source": [
    "potrjeni.loc[\"298\":]"
   ],
   "metadata": {
    "collapsed": false,
    "pycharm": {
     "name": "#%%\n"
    }
   }
  },
  {
   "cell_type": "code",
   "execution_count": 28,
   "outputs": [],
   "source": [
    "cepljeni_7_povprecje_na_100000 = [0]*(688-390)\n",
    "for pot, cep in zip(potrjeni.loc[\"298\":].iterrows(), cepjeni.iterrows()):\n",
    "    indp, rowp = pot\n",
    "    indc, rowc = cep\n",
    "    razmerje = float(rowp[\"Potrjeni zasciteni s cepljenjem 7dnevno povprecje\"]) / int(rowc[\"vaccination.administered.todate\"]) * 100000\n",
    "    cepljeni_7_povprecje_na_100000.append(razmerje)"
   ],
   "metadata": {
    "collapsed": false,
    "pycharm": {
     "name": "#%%\n"
    }
   }
  },
  {
   "cell_type": "code",
   "execution_count": 30,
   "outputs": [],
   "source": [
    "potrjeni[\"Potrjeni zasciteni s cepljenjem 7dnevno povprecje na 100000 cepljenih\"] = cepljeni_7_povprecje_na_100000"
   ],
   "metadata": {
    "collapsed": false,
    "pycharm": {
     "name": "#%%\n"
    }
   }
  },
  {
   "cell_type": "code",
   "execution_count": 31,
   "outputs": [
    {
     "data": {
      "text/plain": "0        0.000000\n1        0.000000\n2        0.000000\n3        0.000000\n4        0.000000\n          ...    \n683    208.805772\n684    223.529702\n685    244.263441\n686    260.220311\n687    271.964161\nName: Potrjeni zasciteni s cepljenjem 7dnevno povprecje na 100000 cepljenih, Length: 688, dtype: float64"
     },
     "execution_count": 31,
     "metadata": {},
     "output_type": "execute_result"
    }
   ],
   "source": [
    "potrjeni[\"Potrjeni zasciteni s cepljenjem 7dnevno povprecje na 100000 cepljenih\"]"
   ],
   "metadata": {
    "collapsed": false,
    "pycharm": {
     "name": "#%%\n"
    }
   }
  }
 ],
 "metadata": {
  "kernelspec": {
   "display_name": "Python 3",
   "language": "python",
   "name": "python3"
  },
  "language_info": {
   "codemirror_mode": {
    "name": "ipython",
    "version": 2
   },
   "file_extension": ".py",
   "mimetype": "text/x-python",
   "name": "python",
   "nbconvert_exporter": "python",
   "pygments_lexer": "ipython2",
   "version": "2.7.6"
  }
 },
 "nbformat": 4,
 "nbformat_minor": 0
}